{
 "cells": [
  {
   "cell_type": "markdown",
   "metadata": {},
   "source": [
    "# Audio Recommender\n",
    "### Team Members: \n",
    "### 1. Basil Vetas (bsv2111)\n",
    "### 2. Daniel First (df2450)\n",
    "### 3. Elizabet Doliar (ed2758)\n",
    "### 4. Alexandra Sudomoeva (as5402)"
   ]
  },
  {
   "cell_type": "markdown",
   "metadata": {},
   "source": [
    "# Check SparkContext"
   ]
  },
  {
   "cell_type": "code",
   "execution_count": 1,
   "metadata": {
    "collapsed": false
   },
   "outputs": [
    {
     "data": {
      "text/html": [
       "\n",
       "        <div>\n",
       "            <p><b>SparkContext</b></p>\n",
       "\n",
       "            <p><a href=\"http://10.0.2.15:4040\">Spark UI</a></p>\n",
       "\n",
       "            <dl>\n",
       "              <dt>Version</dt>\n",
       "                <dd><code>v2.3.0</code></dd>\n",
       "              <dt>Master</dt>\n",
       "                <dd><code>local[*]</code></dd>\n",
       "              <dt>AppName</dt>\n",
       "                <dd><code>PySparkShell</code></dd>\n",
       "            </dl>\n",
       "        </div>\n",
       "        "
      ],
      "text/plain": [
       "<SparkContext master=local[*] appName=PySparkShell>"
      ]
     },
     "execution_count": 1,
     "metadata": {},
     "output_type": "execute_result"
    }
   ],
   "source": [
    "sc"
   ]
  },
  {
   "cell_type": "code",
   "execution_count": 2,
   "metadata": {
    "collapsed": true
   },
   "outputs": [],
   "source": [
    "# import necessary packages\n",
    "import numpy as np"
   ]
  },
  {
   "cell_type": "markdown",
   "metadata": {},
   "source": [
    "# Preparing the Data"
   ]
  },
  {
   "cell_type": "markdown",
   "metadata": {},
   "source": [
    "3 columns: userid artistid playcount"
   ]
  },
  {
   "cell_type": "markdown",
   "metadata": {},
   "source": [
    "Data is kept in the format of \"user id\", \"artist id\", \"count\""
   ]
  },
  {
   "cell_type": "code",
   "execution_count": 3,
   "metadata": {
    "collapsed": false
   },
   "outputs": [],
   "source": [
    "raw_user_artist_data = sc.textFile(\"data/user_artist_data.txt\")\n",
    "#compute statistics on user id\n",
    "user_artist_data = raw_user_artist_data.map(lambda l: l.split(\" \"))"
   ]
  },
  {
   "cell_type": "markdown",
   "metadata": {},
   "source": [
    "Data is kept in the format of \"artist id\", \"artist name\""
   ]
  },
  {
   "cell_type": "code",
   "execution_count": 4,
   "metadata": {
    "collapsed": false
   },
   "outputs": [],
   "source": [
    "raw_artist_data = sc.textFile(\"data/artist_data.txt\")\n",
    "\n",
    "def dropbad(line):\n",
    "    l = line.split(\"\\t\")\n",
    "    if len(l) == 2:\n",
    "        try:\n",
    "            int(l[0])\n",
    "        except ValueError:\n",
    "            return False\n",
    "        else:\n",
    "            return (l[0] != '') and (l[1] != '')\n",
    "    else:\n",
    "        return False\n",
    "\n",
    "artist_by_id = raw_artist_data.filter(lambda l: dropbad(l))\n",
    "artist_by_id = artist_by_id.map(lambda l: (int(l.split(\"\\t\")[0]), l.split(\"\\t\")[1].strip()))"
   ]
  },
  {
   "cell_type": "code",
   "execution_count": 5,
   "metadata": {
    "collapsed": false
   },
   "outputs": [
    {
     "data": {
      "text/plain": [
       "[(1134999, u'06Crazy Life'),\n",
       " (6821360, u'Pang Nakarin'),\n",
       " (10113088, u'Terfel, Bartoli- Mozart: Don'),\n",
       " (10151459, u'The Flaming Sidebur'),\n",
       " (6826647, u'Bodenstandig 3000')]"
      ]
     },
     "execution_count": 5,
     "metadata": {},
     "output_type": "execute_result"
    }
   ],
   "source": [
    "artist_by_id.take(5)"
   ]
  },
  {
   "cell_type": "markdown",
   "metadata": {},
   "source": [
    "Data is kept in the format of \"badid\", \"goodid\""
   ]
  },
  {
   "cell_type": "code",
   "execution_count": 6,
   "metadata": {
    "collapsed": false
   },
   "outputs": [],
   "source": [
    "raw_artist_alias = sc.textFile(\"data/artist_alias.txt\")\n",
    "artist_alias = raw_artist_alias.map(lambda l: (l.split(\"\\t\")[0], l.split(\"\\t\")[1]))\n",
    "artist_alias = artist_alias.filter(lambda l: (l[0] != '') and (l[1] != ''))\n",
    "artist_alias = artist_alias.map(lambda l: (int(l[0]), int(l[1])))"
   ]
  },
  {
   "cell_type": "code",
   "execution_count": 7,
   "metadata": {
    "collapsed": false
   },
   "outputs": [
    {
     "data": {
      "text/plain": [
       "[(1092764, 1000311),\n",
       " (1095122, 1000557),\n",
       " (6708070, 1007267),\n",
       " (10088054, 1042317),\n",
       " (1195917, 1042317)]"
      ]
     },
     "execution_count": 7,
     "metadata": {},
     "output_type": "execute_result"
    }
   ],
   "source": [
    "artist_alias.take(5)"
   ]
  },
  {
   "cell_type": "code",
   "execution_count": 8,
   "metadata": {
    "collapsed": false
   },
   "outputs": [],
   "source": [
    "artist_alias = artist_alias.collectAsMap()"
   ]
  },
  {
   "cell_type": "markdown",
   "metadata": {},
   "source": [
    "# Building The Model"
   ]
  },
  {
   "cell_type": "code",
   "execution_count": 15,
   "metadata": {
    "collapsed": false
   },
   "outputs": [],
   "source": [
    "import pyspark.mllib.recommendation\n",
    "from pyspark.mllib.recommendation import *"
   ]
  },
  {
   "cell_type": "code",
   "execution_count": 16,
   "metadata": {
    "collapsed": false
   },
   "outputs": [],
   "source": [
    "# create broadcast variable with dict of bad and good ids\n",
    "b_artist_alias = sc.broadcast(artist_alias)\n",
    "\n",
    "# create a train data subset\n",
    "train_data = raw_user_artist_data.map(lambda l: (int(l.split(\" \")[0]), int(l.split(\" \")[1]), int(l.split(\" \")[2])))\n",
    "\n",
    "# correct for bad id's using broadcast variable\n",
    "train_data = train_data.map(lambda l: (l[0], (b_artist_alias.value.get(l[1], l[1])), l[2]))"
   ]
  },
  {
   "cell_type": "code",
   "execution_count": 17,
   "metadata": {
    "collapsed": false
   },
   "outputs": [
    {
     "data": {
      "text/plain": [
       "[(1000002, 1, 55),\n",
       " (1000002, 1000006, 33),\n",
       " (1000002, 1000007, 8),\n",
       " (1000002, 1000009, 144),\n",
       " (1000002, 1000010, 314)]"
      ]
     },
     "execution_count": 17,
     "metadata": {},
     "output_type": "execute_result"
    }
   ],
   "source": [
    "train_data.take(5)"
   ]
  },
  {
   "cell_type": "code",
   "execution_count": 18,
   "metadata": {
    "collapsed": false
   },
   "outputs": [],
   "source": [
    "# lastly, build the model (using the finalized parameters form the textbook right away)\n",
    "model = ALS.trainImplicit(train_data, 50, 5, 1.0, 40)"
   ]
  },
  {
   "cell_type": "code",
   "execution_count": 19,
   "metadata": {
    "collapsed": false
   },
   "outputs": [
    {
     "data": {
      "text/plain": [
       "\"120, array('d', [0.0005237431032583117, 0.0004703843442257494, 0.0014566885074600577, -0.0006635559839196503, -0.00020361749920994043, -0.0003671517479233444, -0.0003718723892234266, -0.0004033832810819149, -0.00021437308168970048, 0.002071031602099538, -0.0009212664444930851, 0.0006792983622290194, 0.0007889423286542296, -0.0013239282416179776, -0.0009274594485759735, 0.002002900931984186, -8.646740752737969e-05, 0.0006754693458788097, -0.001245456631295383, -0.0006359285325743258, 0.0013886566739529371, 0.0004942137165926397, -0.0013273025397211313, -0.0015008763875812292, -0.0019119471544399858, 0.0015779894310981035, 0.0014287496451288462, 0.0003408659831620753, -0.0008630104130133986, 0.001232461421750486, -0.0005332815926522017, 0.0010429283138364553, -0.0011241633910685778, 0.0003035206173080951, 0.001245268969796598, -0.000546677561942488, -0.0006837468245066702, 0.0009355540387332439, 0.00032499339431524277, -0.00030262969085015357, 0.0018360851099714637, 0.0018755090422928333, 3.8869300624355674e-05, -0.0007057355251163244, -0.0006897528655827045, 0.00012319922097958624, -0.000617680954746902, 0.0006526708602905273, -0.00037318392423912883, 0.0002081326092593372])\""
      ]
     },
     "execution_count": 19,
     "metadata": {},
     "output_type": "execute_result"
    }
   ],
   "source": [
    "# see somee feature vectors\n",
    "model.userFeatures().map(lambda l: \", \".join([str(x) for x in l])).first()"
   ]
  },
  {
   "cell_type": "markdown",
   "metadata": {},
   "source": [
    "## Spot Checking Recommendations"
   ]
  },
  {
   "cell_type": "code",
   "execution_count": 20,
   "metadata": {
    "collapsed": false
   },
   "outputs": [],
   "source": [
    "# find lines whose user is 2093760\n",
    "raw_artists_for_user = raw_user_artist_data.map(lambda l: l.split(' ')).filter(lambda l: int(l[0]) == 2093760)"
   ]
  },
  {
   "cell_type": "code",
   "execution_count": 21,
   "metadata": {
    "collapsed": false
   },
   "outputs": [
    {
     "data": {
      "text/plain": [
       "[[u'2093760', u'1180', u'1'],\n",
       " [u'2093760', u'1255340', u'3'],\n",
       " [u'2093760', u'378', u'1'],\n",
       " [u'2093760', u'813', u'2'],\n",
       " [u'2093760', u'942', u'7']]"
      ]
     },
     "execution_count": 21,
     "metadata": {},
     "output_type": "execute_result"
    }
   ],
   "source": [
    "raw_artists_for_user.take(5)"
   ]
  },
  {
   "cell_type": "code",
   "execution_count": 22,
   "metadata": {
    "collapsed": true
   },
   "outputs": [],
   "source": [
    "# collect unique artists\n",
    "existing_products = set(raw_artists_for_user.map(lambda l: int(l[1])).collect())"
   ]
  },
  {
   "cell_type": "code",
   "execution_count": 23,
   "metadata": {
    "collapsed": false
   },
   "outputs": [
    {
     "data": {
      "text/plain": [
       "{378, 813, 942, 1180, 1255340}"
      ]
     },
     "execution_count": 23,
     "metadata": {},
     "output_type": "execute_result"
    }
   ],
   "source": [
    "existing_products"
   ]
  },
  {
   "cell_type": "code",
   "execution_count": 24,
   "metadata": {
    "collapsed": false
   },
   "outputs": [
    {
     "name": "stdout",
     "output_type": "stream",
     "text": [
      "David Gray\n",
      "Blackalicious\n",
      "Jurassic 5\n",
      "The Saw Doctors\n",
      "Xzibit\n"
     ]
    }
   ],
   "source": [
    "# filter in those artists, get just artist, and print\n",
    "artists = artist_by_id.filter(lambda l: l[0] in existing_products).collect()\n",
    "\n",
    "for a in artists:\n",
    "    print a[1]"
   ]
  },
  {
   "cell_type": "code",
   "execution_count": 25,
   "metadata": {
    "collapsed": false
   },
   "outputs": [
    {
     "name": "stdout",
     "output_type": "stream",
     "text": [
      "Rating(user=2093760, product=1002095, rating=0.0010288296135225262)\n",
      "Rating(user=2093760, product=6707474, rating=0.000881346625919118)\n",
      "Rating(user=2093760, product=1137790, rating=0.0007521678076580716)\n",
      "Rating(user=2093760, product=6790283, rating=0.0006663027795484252)\n",
      "Rating(user=2093760, product=2106072, rating=0.000655114189134187)\n"
     ]
    }
   ],
   "source": [
    "recommendations = model.recommendProducts(2093760, 5)\n",
    "\n",
    "for r in recommendations:\n",
    "    print r"
   ]
  },
  {
   "cell_type": "code",
   "execution_count": 26,
   "metadata": {
    "collapsed": true
   },
   "outputs": [],
   "source": [
    "recommended_product_ids = set(map(lambda l: l.product, recommendations))"
   ]
  },
  {
   "cell_type": "code",
   "execution_count": 27,
   "metadata": {
    "collapsed": false
   },
   "outputs": [
    {
     "name": "stdout",
     "output_type": "stream",
     "text": [
      "Something Corporate\n",
      "Julian Theory\n",
      "Matthew Walker\n",
      "Domestic Disturbance\n",
      "The NSG\n"
     ]
    }
   ],
   "source": [
    "recommended_artists = artist_by_id.filter(lambda l: l[0] in recommended_product_ids).collect()\n",
    "\n",
    "for r_a in recommended_artists:\n",
    "    print r_a[1]"
   ]
  },
  {
   "cell_type": "markdown",
   "metadata": {},
   "source": [
    "## Making Recommendations"
   ]
  },
  {
   "cell_type": "code",
   "execution_count": 28,
   "metadata": {
    "collapsed": false
   },
   "outputs": [
    {
     "name": "stdout",
     "output_type": "stream",
     "text": [
      "Rating(user=2093760, product=1002095, rating=0.0010288296135225262)\n",
      "Rating(user=2093760, product=6707474, rating=0.000881346625919118)\n",
      "Rating(user=2093760, product=1137790, rating=0.0007521678076580716)\n",
      "Rating(user=2093760, product=6790283, rating=0.0006663027795484252)\n",
      "Rating(user=2093760, product=2106072, rating=0.000655114189134187)\n",
      "Rating(user=2093760, product=1074252, rating=0.000591530832306063)\n",
      "Rating(user=2093760, product=1054637, rating=0.0005780886481855233)\n",
      "Rating(user=2093760, product=1096232, rating=0.0005743829204416402)\n",
      "Rating(user=2093760, product=6859227, rating=0.0005698285058338971)\n",
      "Rating(user=2093760, product=1294291, rating=0.0005576622196469571)\n"
     ]
    }
   ],
   "source": [
    "recommendations = model.recommendProducts(2093760, 10)\n",
    "\n",
    "for r in recommendations:\n",
    "    print r"
   ]
  },
  {
   "cell_type": "code",
   "execution_count": 29,
   "metadata": {
    "collapsed": true
   },
   "outputs": [],
   "source": [
    "recommended_product_ids = set(map(lambda l: l.product, recommendations))"
   ]
  },
  {
   "cell_type": "code",
   "execution_count": 30,
   "metadata": {
    "collapsed": false
   },
   "outputs": [
    {
     "name": "stdout",
     "output_type": "stream",
     "text": [
      "The Nightmare Scenario\n",
      "Something Corporate\n",
      "Julian Theory\n",
      "Matthew Walker\n",
      "Whatever It Takes\n",
      "Peter Brame\n",
      "Domestic Disturbance\n",
      "The NSG\n",
      "reaching forward\n",
      "Lonely Kings\n"
     ]
    }
   ],
   "source": [
    "recommended_artists = artist_by_id.filter(lambda l: l[0] in recommended_product_ids).collect()\n",
    "\n",
    "for r_a in recommended_artists:\n",
    "    print r_a[1]"
   ]
  },
  {
   "cell_type": "code",
   "execution_count": null,
   "metadata": {
    "collapsed": true
   },
   "outputs": [],
   "source": []
  }
 ],
 "metadata": {
  "kernelspec": {
   "display_name": "Python 2",
   "language": "python",
   "name": "python2"
  },
  "language_info": {
   "codemirror_mode": {
    "name": "ipython",
    "version": 2
   },
   "file_extension": ".py",
   "mimetype": "text/x-python",
   "name": "python",
   "nbconvert_exporter": "python",
   "pygments_lexer": "ipython2",
   "version": "2.7.6"
  }
 },
 "nbformat": 4,
 "nbformat_minor": 0
}
